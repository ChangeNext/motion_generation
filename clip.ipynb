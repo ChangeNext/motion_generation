{
 "cells": [
  {
   "cell_type": "code",
   "execution_count": 1,
   "metadata": {},
   "outputs": [
    {
     "name": "stderr",
     "output_type": "stream",
     "text": [
      "/root/anaconda3/envs/llm-motion/lib/python3.8/site-packages/tqdm/auto.py:21: TqdmWarning: IProgress not found. Please update jupyter and ipywidgets. See https://ipywidgets.readthedocs.io/en/stable/user_install.html\n",
      "  from .autonotebook import tqdm as notebook_tqdm\n"
     ]
    },
    {
     "name": "stdout",
     "output_type": "stream",
     "text": [
      "Torch version: 2.1.0+cu118\n"
     ]
    }
   ],
   "source": [
    "import numpy as np\n",
    "import torch\n",
    "import clip\n",
    "from tqdm.notebook import tqdm\n",
    "from pkg_resources import packaging\n",
    "\n",
    "print(\"Torch version:\", torch.__version__)"
   ]
  },
  {
   "cell_type": "code",
   "execution_count": 2,
   "metadata": {},
   "outputs": [
    {
     "data": {
      "text/plain": [
       "['RN50',\n",
       " 'RN101',\n",
       " 'RN50x4',\n",
       " 'RN50x16',\n",
       " 'RN50x64',\n",
       " 'ViT-B/32',\n",
       " 'ViT-B/16',\n",
       " 'ViT-L/14',\n",
       " 'ViT-L/14@336px']"
      ]
     },
     "execution_count": 2,
     "metadata": {},
     "output_type": "execute_result"
    }
   ],
   "source": [
    "clip.available_models()"
   ]
  },
  {
   "cell_type": "code",
   "execution_count": 20,
   "metadata": {},
   "outputs": [
    {
     "name": "stderr",
     "output_type": "stream",
     "text": [
      "modules.json: 100%|██████████| 122/122 [00:00<00:00, 143kB/s]\n",
      "config_sentence_transformers.json: 100%|██████████| 116/116 [00:00<00:00, 85.5kB/s]\n",
      "README.md: 100%|██████████| 1.91k/1.91k [00:00<00:00, 2.45MB/s]\n",
      "0_CLIPModel/config.json: 100%|██████████| 4.03k/4.03k [00:00<00:00, 1.56MB/s]\n",
      "0_CLIPModel/merges.txt:   0%|          | 0.00/525k [00:00<?, ?B/s]\n",
      "0_CLIPModel/preprocessor_config.json: 100%|██████████| 316/316 [00:00<00:00, 124kB/s]\n",
      "\n",
      "0_CLIPModel/special_tokens_map.json: 100%|██████████| 389/389 [00:00<00:00, 142kB/s]\n",
      "\n",
      "0_CLIPModel/tokenizer_config.json: 100%|██████████| 604/604 [00:00<00:00, 244kB/s]\n",
      "0_CLIPModel/merges.txt: 100%|██████████| 525k/525k [00:00<00:00, 1.39MB/s]\n",
      "0_CLIPModel/vocab.json: 100%|██████████| 961k/961k [00:00<00:00, 1.31MB/s]\n",
      "pytorch_model.bin: 100%|██████████| 605M/605M [00:43<00:00, 13.9MB/s] \n"
     ]
    }
   ],
   "source": [
    "from sentence_transformers import SentenceTransformer, util\n",
    "from PIL import Image\n",
    "\n",
    "#Load CLIP model\n",
    "model = SentenceTransformer('clip-ViT-B-32')"
   ]
  },
  {
   "cell_type": "code",
   "execution_count": 44,
   "metadata": {},
   "outputs": [],
   "source": [
    "#Encode text descriptions\n",
    "motion_1 = 'a man kicks something or someone with his left leg'\n",
    "motion_2 = 'the standing person kicks with their left foot before going back to their original stance.'\n",
    "motion_3 = 'a person falls to the ground in a sitting motion and then pops back up in a standing position.'\n",
    "motion_4 = 'a person standing loses balance falling to the right and recovers standing'\n",
    "motion_1_emb = model.encode(motion_1)\n",
    "motion_2_emb = model.encode(motion_2)\n",
    "motion_3_emb = model.encode(motion_3)\n",
    "motion_4_emb = model.encode(motion_4)"
   ]
  },
  {
   "cell_type": "code",
   "execution_count": 46,
   "metadata": {},
   "outputs": [
    {
     "data": {
      "text/plain": [
       "tensor([[0.8207]])"
      ]
     },
     "execution_count": 46,
     "metadata": {},
     "output_type": "execute_result"
    }
   ],
   "source": [
    "cos_sim = util.cos_sim(motion_1_emb, motion_4_emb)\n",
    "cos_sim"
   ]
  },
  {
   "cell_type": "code",
   "execution_count": 47,
   "metadata": {},
   "outputs": [
    {
     "data": {
      "text/plain": [
       "tensor([[0.8226]])"
      ]
     },
     "execution_count": 47,
     "metadata": {},
     "output_type": "execute_result"
    }
   ],
   "source": [
    "cos_sim = util.cos_sim(motion_1_emb, motion_2_emb)\n",
    "cos_sim"
   ]
  },
  {
   "cell_type": "code",
   "execution_count": 5,
   "metadata": {},
   "outputs": [],
   "source": [
    "##### ---- Network ---- #####\n",
    "clip_model, clip_preprocess = clip.load(\"ViT-B/32\", device=torch.device('cuda'), jit=False)  # Must set jit=False for training\n",
    "clip.model.convert_weights(clip_model)  # Actually this line is unnecessary since clip by default already on float16\n",
    "clip_model.eval()\n",
    "for p in clip_model.parameters():\n",
    "    p.requires_grad = False"
   ]
  },
  {
   "cell_type": "code",
   "execution_count": 26,
   "metadata": {},
   "outputs": [],
   "source": [
    "text = clip.tokenize(clip_text).cuda()\n",
    "feat_clip_text = clip_model.encode_text(text).float()"
   ]
  },
  {
   "cell_type": "code",
   "execution_count": 28,
   "metadata": {},
   "outputs": [
    {
     "data": {
      "text/plain": [
       "tensor([[ 2.9938e-02, -2.9968e-02, -5.4736e-01, -1.2964e-01, -6.6772e-02,\n",
       "         -2.8735e-01,  8.3374e-02, -4.2822e-01, -2.6343e-01,  4.5929e-02,\n",
       "         -1.9983e-01,  1.1084e-01, -4.7852e-02, -1.9861e-01,  2.8711e-01,\n",
       "          5.2277e-02,  5.9418e-02, -1.1681e-02, -2.0111e-02,  1.9971e-01,\n",
       "         -4.4067e-01,  1.3318e-01,  2.5073e-01, -4.1504e-01,  3.9526e-01,\n",
       "          2.3425e-01,  2.4744e-01,  3.8770e-01, -1.5857e-01, -2.2229e-01,\n",
       "          2.8613e-01, -1.8933e-01,  2.9443e-01, -3.1982e-02, -8.0518e-01,\n",
       "          4.5471e-02, -2.9980e-01, -9.8022e-02, -4.3793e-02,  9.1492e-02,\n",
       "          3.8940e-02,  4.1602e-01,  4.7035e-03,  5.9032e-04,  3.0054e-01,\n",
       "          9.0561e-03, -6.3721e-02, -2.7612e-01,  8.6914e-02,  1.0791e-01,\n",
       "          1.8323e-01, -2.3840e-01, -1.2321e-02,  1.2109e-01,  5.2441e-01,\n",
       "         -4.0625e-01,  9.3079e-02,  3.6206e-01, -3.0615e-01, -1.8481e-01,\n",
       "         -5.3662e-01,  1.1615e-01,  5.2429e-02,  2.6660e-01, -8.2458e-02,\n",
       "         -3.6719e-01,  4.4189e-02, -5.0000e-01, -2.7686e-01,  1.5469e-03,\n",
       "          1.1725e-01, -2.0325e-02,  1.4844e-01, -5.3589e-02,  7.9956e-02,\n",
       "          4.6948e-01,  1.8311e-01,  2.5269e-01,  5.2948e-02, -2.4524e-01,\n",
       "         -1.0980e-01,  2.2400e-01, -2.0154e-01,  2.6245e-01,  4.5898e-02,\n",
       "         -1.5173e-01,  2.2620e-01,  7.9285e-02, -5.2399e-02,  8.2642e-02,\n",
       "          1.6650e-01,  5.9540e-02, -6.5918e-01,  8.4961e-01,  1.0803e-01,\n",
       "         -1.0254e-01, -3.8843e-01,  4.3311e-01, -3.6694e-01, -1.7285e-01,\n",
       "          2.2620e-01,  6.9531e-01,  2.1301e-01,  4.8389e-01, -1.8661e-02,\n",
       "         -1.9629e-01, -1.7346e-01, -1.6541e-01, -5.5298e-02,  8.0994e-02,\n",
       "          1.1316e-01, -3.9136e-01, -2.3169e-01, -1.7920e-01, -7.6477e-02,\n",
       "         -7.3364e-02, -5.2148e-01,  2.0374e-01, -8.8806e-02, -2.2644e-01,\n",
       "         -1.9373e-01, -7.8027e-01, -1.5015e-01, -5.4932e-02,  1.2500e-01,\n",
       "         -1.9299e-01,  1.3574e-01, -1.3696e-01, -8.7952e-02, -1.8103e-01,\n",
       "         -6.2561e-02, -9.0576e-02, -1.3074e-01,  3.4531e+00, -5.4199e-01,\n",
       "         -1.4746e-01, -4.8859e-02, -2.3157e-01, -1.7358e-01, -1.0144e-01,\n",
       "         -4.8267e-01,  2.6660e-01,  2.1033e-01,  3.8672e-01, -4.7583e-01,\n",
       "         -3.0591e-01,  8.0627e-02, -6.6284e-02, -1.2622e-01,  4.8364e-01,\n",
       "         -1.7395e-01, -3.9160e-01, -3.9404e-01,  5.3174e-01, -1.6129e-02,\n",
       "         -3.0054e-01,  1.9983e-01, -2.7515e-01,  3.3130e-01, -2.1317e-02,\n",
       "          5.0732e-01,  1.5930e-01,  1.4746e-01,  8.2886e-02, -6.3416e-02,\n",
       "          6.6650e-02,  4.5929e-02, -3.0615e-01,  1.9116e-01, -2.3376e-01,\n",
       "          2.4246e-02, -7.4951e-02,  1.7151e-01, -1.7188e-01, -1.4465e-01,\n",
       "          4.5361e-01, -9.6252e-02, -2.3621e-02, -8.2169e-03,  2.8833e-01,\n",
       "         -2.2049e-03,  8.1482e-02, -4.9097e-01, -2.9858e-01,  3.6194e-02,\n",
       "         -1.9272e-02,  9.3002e-03,  8.4351e-02, -2.8491e-01,  3.8818e-01,\n",
       "         -3.2227e-01, -1.3953e-01, -2.4365e-01,  3.9819e-01, -1.1554e-01,\n",
       "          1.5295e-01, -5.3314e-02,  1.3049e-01, -6.3721e-01,  1.8640e-01,\n",
       "          1.6980e-01,  3.2397e-01,  3.2544e-01, -1.0999e-01, -3.2440e-02,\n",
       "         -4.6631e-01,  3.1958e-01, -2.4744e-01, -1.5247e-01, -1.2927e-01,\n",
       "         -1.8750e-01,  5.3125e-01,  2.9492e-01, -6.2317e-02, -5.7404e-02,\n",
       "          4.0314e-02, -1.4380e-01,  1.9727e-01,  4.1577e-01,  3.0444e-01,\n",
       "         -3.0225e-01, -2.6831e-01, -1.5649e-01, -1.8640e-01, -5.1819e-02,\n",
       "         -4.4287e-01,  1.0693e-01,  4.6051e-02,  3.9154e-02,  7.1350e-02,\n",
       "          7.8857e-02,  8.4229e-02,  3.4570e-01,  5.1318e-01,  1.5881e-01,\n",
       "          7.5195e-01,  2.5439e-01, -4.1968e-01, -6.1035e-02, -6.2793e-01,\n",
       "          2.1582e-01,  2.7539e-01,  2.2437e-01,  3.4790e-01, -2.8320e-02,\n",
       "         -2.9004e-01,  7.5806e-02,  2.2107e-01,  2.5977e-01,  3.2886e-01,\n",
       "          3.6743e-02,  7.8003e-02,  9.7839e-02,  7.3547e-02,  4.0039e-02,\n",
       "          9.9716e-03, -2.6367e-01, -3.5492e-02, -1.4062e-01,  4.4800e-01,\n",
       "          2.2595e-01, -2.4438e-01,  4.0771e-01,  1.1639e-01,  3.5913e-01,\n",
       "         -2.4927e-01, -1.7700e-01, -2.3267e-01,  3.0716e-02,  1.9421e-01,\n",
       "          3.3508e-02,  1.2596e-02,  2.4695e-01,  2.1704e-01,  1.9971e-01,\n",
       "         -3.2251e-01,  3.0786e-01, -4.5967e-03,  3.2397e-01, -2.1021e-01,\n",
       "         -2.4304e-01, -4.6936e-02,  4.5630e-01,  3.1494e-01,  2.1790e-01,\n",
       "          4.3555e-01,  1.4697e-01,  5.0934e-02,  1.0144e-01, -2.0105e-01,\n",
       "         -8.4106e-02,  2.0618e-01, -3.6938e-01, -5.0903e-02, -1.0175e-01,\n",
       "         -7.1167e-02, -1.1426e-01,  4.7095e-01,  1.1731e-01,  8.5205e-02,\n",
       "         -4.7729e-01,  1.9116e-01,  1.6510e-02,  2.1106e-01, -2.0798e-02,\n",
       "         -6.0645e-01,  1.9727e-01,  1.6125e-01,  5.8746e-02,  2.9541e-01,\n",
       "         -1.0327e-01,  5.9521e-01,  3.4434e+00,  3.4644e-01, -4.2023e-02,\n",
       "          6.2927e-02,  3.7183e-01,  1.6797e-01, -1.1523e-01,  3.3691e-01,\n",
       "          3.6816e-01,  2.9004e-01,  6.1493e-02, -1.6858e-01,  3.4497e-01,\n",
       "          2.4536e-01,  1.4612e-01, -2.3315e-01,  3.2739e-01, -6.4111e-01,\n",
       "         -1.8762e-01, -3.0853e-02,  6.2256e-01,  1.3513e-01,  3.3960e-01,\n",
       "         -1.2115e-01,  1.5613e-01, -1.5979e-01, -8.8135e-02, -4.0039e-02,\n",
       "          1.0321e-01,  2.0032e-01, -1.2688e-02, -5.6348e-01,  2.5952e-01,\n",
       "         -8.1726e-02,  2.3218e-01, -1.1102e-01, -4.7217e-01, -5.9509e-02,\n",
       "          1.4380e-01,  4.6906e-02, -1.4661e-01,  2.0679e-01, -3.0542e-01,\n",
       "          4.5752e-01,  1.2054e-01, -3.1860e-01, -6.7291e-03, -2.8247e-01,\n",
       "          7.7051e-01, -4.1138e-01, -4.9609e-01,  3.3789e-01,  1.0797e-01,\n",
       "          5.2795e-03,  1.7273e-01,  2.0789e-01, -1.0669e-01,  1.6809e-01,\n",
       "          1.8176e-01,  5.5267e-02, -9.0210e-02,  1.7334e-01,  1.3940e-01,\n",
       "          2.8247e-01,  7.7332e-02, -3.6597e-01,  4.3488e-02, -7.0992e-03,\n",
       "         -1.9348e-01,  2.5903e-01, -2.2620e-01,  2.8516e-01, -2.7051e-01,\n",
       "         -9.2468e-02, -5.2930e-01, -1.7212e-01,  1.3159e-01, -1.8042e-01,\n",
       "         -4.0723e-01, -1.8665e-01,  1.9580e-01, -1.8542e-01,  3.8452e-01,\n",
       "          2.5537e-01, -1.1499e-01, -3.9368e-03, -2.4097e-01,  7.1338e-01,\n",
       "          1.6199e-01, -1.9067e-01,  1.6016e-01,  4.0088e-01, -1.6467e-01,\n",
       "          3.3752e-02,  1.6370e-01,  5.1819e-02,  2.9517e-01,  3.5645e-01,\n",
       "          4.7900e-01, -1.5930e-01,  6.6589e-02,  4.7638e-02,  2.2681e-01,\n",
       "          2.4756e-01,  2.3425e-01, -1.2683e-01,  2.0947e-01,  2.0248e-02,\n",
       "          5.7861e-01, -1.5405e-01, -1.7017e-01, -6.5723e-01,  9.3079e-02,\n",
       "          2.8735e-01,  3.1323e-01,  2.3816e-01,  3.8501e-01, -3.0566e-01,\n",
       "         -2.7979e-01,  2.1924e-01, -2.0520e-01,  3.2349e-01, -7.1144e-03,\n",
       "          3.3905e-02, -4.2432e-01,  7.8271e-01, -1.7969e-01,  3.5400e-02,\n",
       "          3.8940e-02,  2.2449e-01, -2.8345e-01, -5.8899e-03, -3.2861e-01,\n",
       "          3.5571e-01,  1.2927e-01, -2.9712e-01,  2.0227e-01,  7.4646e-02,\n",
       "         -8.0261e-03,  2.6440e-01,  2.8003e-01,  9.9182e-02, -1.9202e-01,\n",
       "         -3.6450e-01, -3.9551e-01, -8.2581e-02,  1.4648e-01, -1.3428e-01,\n",
       "          3.3276e-01, -2.5342e-01,  4.3182e-02,  2.7002e-01,  3.7183e-01,\n",
       "          8.7036e-02,  8.2642e-02,  5.8838e-02, -5.3711e-01, -3.6841e-01,\n",
       "          2.8613e-01, -2.8931e-01,  2.8671e-02, -2.3804e-02,  1.6272e-01,\n",
       "         -1.2891e-01,  2.3022e-01,  1.9580e-01,  8.3801e-02,  2.2205e-01,\n",
       "         -2.9492e-01,  6.1493e-03,  4.5459e-01, -2.8778e-02, -3.2910e-01,\n",
       "         -2.1375e-01, -3.7646e-01, -1.7822e-01, -4.2786e-02,  3.3862e-01,\n",
       "          9.5215e-02, -2.1558e-01, -3.0371e-01,  1.3594e+00,  1.3847e-02,\n",
       "          1.5112e-01,  2.7808e-01, -4.6417e-02, -2.8174e-01,  1.7798e-01,\n",
       "         -5.1086e-02, -1.9897e-01,  6.1646e-02,  2.9126e-01,  1.0840e-01,\n",
       "          1.7334e-01, -6.0205e-01,  2.1228e-01,  1.6345e-01, -9.6313e-02,\n",
       "         -5.8411e-02, -5.6104e-01]], device='cuda:0')"
      ]
     },
     "execution_count": 28,
     "metadata": {},
     "output_type": "execute_result"
    }
   ],
   "source": [
    "feat_clip_text"
   ]
  }
 ],
 "metadata": {
  "kernelspec": {
   "display_name": "llm-motion",
   "language": "python",
   "name": "python3"
  },
  "language_info": {
   "codemirror_mode": {
    "name": "ipython",
    "version": 3
   },
   "file_extension": ".py",
   "mimetype": "text/x-python",
   "name": "python",
   "nbconvert_exporter": "python",
   "pygments_lexer": "ipython3",
   "version": "3.8.18"
  }
 },
 "nbformat": 4,
 "nbformat_minor": 2
}
